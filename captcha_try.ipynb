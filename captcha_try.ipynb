{
  "nbformat": 4,
  "nbformat_minor": 0,
  "metadata": {
    "colab": {
      "name": "captcha_try.ipynb",
      "provenance": [],
      "authorship_tag": "ABX9TyOfldAIALDnKYGlbtO1IUW0"
    },
    "kernelspec": {
      "name": "python3",
      "display_name": "Python 3"
    },
    "accelerator": "GPU"
  },
  "cells": [
    {
      "cell_type": "code",
      "metadata": {
        "id": "VN0l_epVO6lC",
        "colab_type": "code",
        "colab": {}
      },
      "source": [
        "import matplotlib.pyplot as plt\n",
        "import cv2\n",
        "import pickle\n",
        "import os.path\n",
        "import numpy as np\n",
        "import pandas as pd\n",
        "import cv2\n",
        "import matplotlib.pyplot as plt"
      ],
      "execution_count": 0,
      "outputs": []
    },
    {
      "cell_type": "code",
      "metadata": {
        "id": "kg5McRJuP4dK",
        "colab_type": "code",
        "colab": {}
      },
      "source": [
        "import tensorflow as tf"
      ],
      "execution_count": 0,
      "outputs": []
    },
    {
      "cell_type": "code",
      "metadata": {
        "id": "pw8NTJYTDYq8",
        "colab_type": "code",
        "outputId": "62c872e6-e9df-4c28-c01d-fa5953bf8069",
        "colab": {
          "base_uri": "https://localhost:8080/",
          "height": 34
        }
      },
      "source": [
        "tf.__version__"
      ],
      "execution_count": 3,
      "outputs": [
        {
          "output_type": "execute_result",
          "data": {
            "text/plain": [
              "'2.2.0-rc2'"
            ]
          },
          "metadata": {
            "tags": []
          },
          "execution_count": 3
        }
      ]
    },
    {
      "cell_type": "code",
      "metadata": {
        "id": "SRewNfluV7D_",
        "colab_type": "code",
        "outputId": "afafb210-d3ec-4b0f-b61d-0dfb8294d398",
        "colab": {
          "base_uri": "https://localhost:8080/",
          "height": 54
        }
      },
      "source": [
        "model = tf.keras.models.load_model('/content/model.hdf5')\n"
      ],
      "execution_count": 5,
      "outputs": [
        {
          "output_type": "stream",
          "text": [
            "WARNING:tensorflow:Sequential models without an `input_shape` passed to the first layer cannot reload their optimizer state. As a result, your model isstarting with a freshly initialized optimizer.\n"
          ],
          "name": "stdout"
        }
      ]
    },
    {
      "cell_type": "code",
      "metadata": {
        "id": "-g_WQqD18bLT",
        "colab_type": "code",
        "outputId": "c7b1e17e-bdfe-4b9f-8753-58a7d658308f",
        "colab": {
          "base_uri": "https://localhost:8080/",
          "height": 34
        }
      },
      "source": [
        "letters = \"0 1 2 3 4 5 6 7 8 9 A B C D E F G H I J K L M N O P Q R S T U V W X Y Z aa bb dd ee ff gg hh nn qq rr tt\"\n",
        "\n",
        "index_to_leter = dict(zip(list(range(0,len(letters)+2)), letters.split(\" \") ))\n",
        "\n",
        "print(len(index_to_leter))"
      ],
      "execution_count": 13,
      "outputs": [
        {
          "output_type": "stream",
          "text": [
            "47\n"
          ],
          "name": "stdout"
        }
      ]
    },
    {
      "cell_type": "code",
      "metadata": {
        "id": "E3yr7Pu2XTgp",
        "colab_type": "code",
        "outputId": "9e2c6d77-5f7c-4a43-e85c-74c2d5b371e5",
        "colab": {
          "base_uri": "https://localhost:8080/",
          "height": 54
        }
      },
      "source": [
        "import os\n",
        "arr = os.listdir(\"/content/captcha_test\")\n",
        "image_paths = [ os.path.join(\"/content/captcha_test\",x) for x in arr]\n",
        "print(image_paths)"
      ],
      "execution_count": 14,
      "outputs": [
        {
          "output_type": "stream",
          "text": [
            "['/content/captcha_test/ZYPV1.jpg', '/content/captcha_test/2VAE.jpg', '/content/captcha_test/2QURM.jpg', '/content/captcha_test/ZYG3.jpg', '/content/captcha_test/2Y38N.jpg', '/content/captcha_test/2RH3V.jpg', '/content/captcha_test/.ipynb_checkpoints', '/content/captcha_test/2W5X.jpg', '/content/captcha_test/2PLPA.jpg', '/content/captcha_test/2PLSV.jpg', '/content/captcha_test/3EADJ.jpg', '/content/captcha_test/MP2RN.jpg', '/content/captcha_test/ZYD5.jpg', '/content/captcha_test/2ZME.jpg', '/content/captcha_test/2R4U.jpg', '/content/captcha_test/ZYDQ.jpg']\n"
          ],
          "name": "stdout"
        }
      ]
    },
    {
      "cell_type": "code",
      "metadata": {
        "id": "mcUmaK7bdhPe",
        "colab_type": "code",
        "outputId": "724608bd-f945-4b60-de42-bea453bcce5a",
        "colab": {
          "base_uri": "https://localhost:8080/",
          "height": 1000
        }
      },
      "source": [
        "for i in image_paths:    \n",
        "    img = cv2.imread(i)\n",
        "    img = cv2.cvtColor(img,cv2.COLOR_BGR2GRAY)\n",
        "    # img = cv2.medianBlur(img, 1)\n",
        "    img = cv2.GaussianBlur(img , (25, 25), 1)\n",
        "\n",
        "    #thresholding to remove background\n",
        "    thr = cv2.threshold(img, 0, 255,  cv2.THRESH_OTSU)[1]\n",
        "    #control kernel\n",
        "    kernel = np.ones((3,3), np.uint8)\n",
        "    img=cv2.dilate(thr,kernel)\n",
        "\n",
        "    kernel = np.ones((3, 3), np.uint8)\n",
        "    img = cv2.erode(img, kernel)\n",
        "\n",
        "    kernel=np.ones((2,2),np.uint8)\n",
        "    img=cv2.dilate(img,kernel)\n",
        "    #add border arround the image to prevent loss of information\n",
        "    img = cv2.copyMakeBorder(img, 28, 28, 28, 28, cv2.BORDER_CONSTANT, value=255)\n",
        "    # img = cv2.Canny(img, 30, 30)\n",
        "\n",
        "\n",
        "    #invert the image if you not invert them will detect outer contour\n",
        "    img = cv2.bitwise_not(img)\n",
        "\n",
        "    contours, hierarchy = cv2.findContours(img,cv2.RETR_TREE,cv2.CHAIN_APPROX_SIMPLE)\n",
        "    len(contours)\n",
        "#     imgplot = plt.imshow(img,cmap='gray')        \n",
        "#     plt.show()\n",
        "\n",
        "    #make a new list for the targeted contours\n",
        "    newContours=[]#for the specified shapes only , no outer image nor inner of items\n",
        "    xs=[]\n",
        "    ys=[]\n",
        "    ws=[]\n",
        "    hs=[]\n",
        "    WdevH=[]\n",
        "    a=[]\n",
        "    letter_image_regions=[]\n",
        "\n",
        "    #loop over zip of contours and hierarchy so to get matched cuples of contours and hierarchs\n",
        "    for contour,hierarch in zip(contours,hierarchy[0]):#it is dimensional\n",
        "        if hierarch[3] == -1:#get the parent only which is the last of the last of each list\n",
        "            newContours.append(contour)\n",
        "        else:\n",
        "            continue\n",
        "\n",
        "    lenghtContours=len(newContours)\n",
        "\n",
        "    for contour in newContours:\n",
        "        area = cv2.contourArea(contour)\n",
        "        a.append(area)\n",
        "        if area > 50:\n",
        "            a.append(area)\n",
        "            # Get the rectangle that contains the contour\n",
        "            x, y, w, h = cv2.boundingRect(contour) \n",
        "        #     xs.append(x) \n",
        "        #     ys.append(y)\n",
        "        #     ws.append(w)\n",
        "        #     hs.append(h)\n",
        "        #     WdevH.append(wdevh)\n",
        "            if  lenghtContours==5:\n",
        "                roi = img[y:y+h, x:x+w]\n",
        "#                 cv2.imwrite(\"{}.png\".format(str(w/h)), roi)\n",
        "                letter_image_regions.append((x,y,w,h))\n",
        "            elif  lenghtContours==4:\n",
        "                if w/h >=1.2:\n",
        "                        half_width = int(w / 2)\n",
        "                        letter_image_regions.append((x, y, half_width, h))\n",
        "                        letter_image_regions.append((x + half_width, y, half_width, h))\n",
        "                else:\n",
        "                        # This is a normal letter by itself\n",
        "                        letter_image_regions.append((x, y, w, h))\n",
        "\n",
        "            elif lenghtContours==1:\n",
        "                if w/h >=2 and w/h <=4 :\n",
        "                        one_item=int(w/4)\n",
        "                        letter_image_regions.append((x,y,one_item,h))\n",
        "                        letter_image_regions.append((x+one_item,y,one_item,h))\n",
        "                        letter_image_regions.append((x+(2*one_item),y,one_item,h))\n",
        "                        letter_image_regions.append((x+(3*one_item),y,one_item,h))\n",
        "                elif w/h > 4 :\n",
        "                        one_item_from5=int(w/5)\n",
        "                        letter_image_regions.append((x,y,one_item_from5,h))\n",
        "                        letter_image_regions.append((x+one_item_from5,y,one_item_from5,h))\n",
        "                        letter_image_regions.append((x+(2*one_item_from5),y,one_item_from5,h))\n",
        "                        letter_image_regions.append((x+(3*one_item_from5),y,one_item_from5,h))\n",
        "                        letter_image_regions.append((x+(4*one_item_from5),y,one_item_from5,h))\n",
        "                else:\n",
        "                        letter_image_regions.append((x,y,w,h))\n",
        "            elif lenghtContours==3:\n",
        "                if w/h >= 1.2 and w/h <= 2.1  :\n",
        "                        half_width = int(w / 2)\n",
        "                        print(half_width)\n",
        "                        letter_image_regions.append((x, y, half_width, h))\n",
        "                        letter_image_regions.append((x + half_width, y, half_width, h))\n",
        "                elif w/h > 2.1:\n",
        "                        one_item_from3 = int(w/3)\n",
        "                        letter_image_regions.append((x,y,one_item_from3,h))\n",
        "                        letter_image_regions.append((x+one_item_from3,y,one_item_from3,h))\n",
        "                        letter_image_regions.append((x+(2*one_item_from3),y,one_item_from3,h))\n",
        "\n",
        "                else:\n",
        "                        letter_image_regions.append((x,y,w,h))\n",
        "            elif lenghtContours==2:\n",
        "\n",
        "                if w/h > 1.2 and w/h <= 2:\n",
        "                        one_item_from3=int(w/3)\n",
        "                        letter_image_regions.append((x,y,one_item_from3,h))\n",
        "                        letter_image_regions.append((x+one_item_from3,y,one_item_from3,h))\n",
        "                        letter_image_regions.append((x+(2*one_item_from3),y,one_item_from3,h))   \n",
        "                elif w/h >2:\n",
        "                        one_item=int(w/4)\n",
        "                        letter_image_regions.append((x,y,one_item,h))\n",
        "                        letter_image_regions.append((x+one_item,y,one_item,h))\n",
        "                        letter_image_regions.append((x+(2*one_item),y,one_item,h))\n",
        "                        letter_image_regions.append((x+(3*one_item),y,one_item,h))\n",
        "                else:\n",
        "                        letter_image_regions.append((x,y,w,h))   \n",
        "        else:\n",
        "            continue\n",
        "\n",
        "\n",
        "\n",
        "    letter_image_regions = sorted(letter_image_regions, key=lambda x: x[0])\n",
        "\n",
        "    img= cv2.subtract(255, img)#reverse color again \n",
        "    # Create an output image and a list to hold our predicted letters\n",
        "    output = cv2.merge([img] * 3)\n",
        "    predictions = []    \n",
        "    # cv2.imwrite('x.png', output)\n",
        "\n",
        "    for i in letter_image_regions:\n",
        "        x,y,w,h = i\n",
        "        roi = img[y:y+h, x:x+w]\n",
        "    #     print(roi)\n",
        "        #add border arround the image to prevent loss of information\n",
        "    #     img = cv2.copyMakeBorder(roi, 8, 8, 8, 8, cv2.BORDER_CONSTANT, value=255)\n",
        "    #     #     print(roi)\n",
        "    #     cv2.imwrite(\"{}.png\".format(str(x)), roi)////\n",
        "    #         print('I am 4')\n",
        "    #         print(x)\n",
        "    #         # Compare the width and height of the contour to detect letters that\n",
        "    #         # are conjoined into one chunk\n",
        "\n",
        "\n",
        "    # loop over the letters\n",
        "    for letter_bounding_box in letter_image_regions:\n",
        "        # Grab the coordinates of the letter in the image\n",
        "        x, y, w, h = letter_bounding_box\n",
        "    #     print(x,y,w,h)\n",
        "         # Extract the letter from the original image with a 2-pixel margin around the edge\n",
        "        letter_image = img[y - 2:y + h + 2, x - 2:x + w + 2]\n",
        "        letter_image = cv2.copyMakeBorder(letter_image, 5, 5,5 , 5, cv2.BORDER_CONSTANT, value=255)\n",
        "\n",
        "\n",
        "        # Re-size the letter image to 20x20 pixels to match training data\n",
        "        # Re-size the letter image to 20x20 pixels to match training data\n",
        "  \n",
        "        letter_image = cv2.resize(letter_image,(28,28))  \n",
        "\n",
        "        letter_image= cv2.subtract(255, letter_image)#reverse color again \n",
        "        letter_image = letter_image /255.0\n",
        "\n",
        "        plt.imshow(letter_image)\n",
        "\n",
        "        # Turn the single image into a 4d list of images to make Keras happy\n",
        "        letter_image = np.expand_dims(letter_image, axis=2)\n",
        "        letter_image = np.expand_dims(letter_image, axis=0)\n",
        "         # Ask the neural network to make a prediction\n",
        "           \n",
        "\n",
        "        prediction = model.predict(letter_image)\n",
        "        # Convert the one-hot-encoded prediction back to a normal letter\n",
        "        letter = index_to_leter[prediction.argmax()]\n",
        "        if len(letter) == 2:\n",
        "          letter = letter[0]\n",
        "        predictions.append(letter)\n",
        "        # draw the prediction on the output image\n",
        "        cv2.rectangle(output, (x - 2, y - 2), (x + w + 4, y + h + 4), (0, 255, 0), 1)\n",
        "        cv2.putText(output, letter, (x - 5, y - 5), cv2.FONT_HERSHEY_SIMPLEX, 0.55, (0, 255, 0), 2)\n",
        "\n",
        "    # Print the captcha's text  \n",
        "    print(predictions) \n",
        "    captcha_text = \"\".join(predictions)\n",
        "    print(\"CAPTCHA text is: {}\".format(captcha_text))\n",
        "    cv2.imwrite('workaround.jpg',output)\n",
        "    from IPython.display import Image\n",
        "    display(Image(filename='workaround.jpg'))\n",
        "# Show the annotated image\n",
        "# cv2.imshow(\"Output\", output)\n",
        "# cv2.waitKey()    \n",
        "#invert the image if you not invert them will detect outer contour\n",
        "#     img = cv2.bitwise_not(img)\n",
        "#     cv2.imwrite(\"{}.png\".format(str(x)), letter_image)"
      ],
      "execution_count": 15,
      "outputs": [
        {
          "output_type": "stream",
          "text": [
            "['Z', 'Y', 'P', '4']\n",
            "CAPTCHA text is: ZYP4\n"
          ],
          "name": "stdout"
        },
        {
          "output_type": "display_data",
          "data": {
            "image/jpeg": "[encoded data removed]",
            "text/plain": [
              "<IPython.core.display.Image object>"
            ]
          },
          "metadata": {
            "tags": []
          }
        },
        {
          "output_type": "stream",
          "text": [
            "25\n",
            "['Z', 'V', 'd', 'E']\n",
            "CAPTCHA text is: ZVdE\n"
          ],
          "name": "stdout"
        },
        {
          "output_type": "display_data",
          "data": {
            "image/jpeg": "[encoded data removed]",
            "text/plain": [
              "<IPython.core.display.Image object>"
            ]
          },
          "metadata": {
            "tags": []
          }
        },
        {
          "output_type": "stream",
          "text": [
            "29\n",
            "['2', 'q', 'R', 'M']\n",
            "CAPTCHA text is: 2qRM\n"
          ],
          "name": "stdout"
        },
        {
          "output_type": "display_data",
          "data": {
            "image/jpeg": "[encoded data removed]",
            "text/plain": [
              "<IPython.core.display.Image object>"
            ]
          },
          "metadata": {
            "tags": []
          }
        },
        {
          "output_type": "stream",
          "text": [
            "['E', 'n', 'G', '3']\n",
            "CAPTCHA text is: EnG3\n"
          ],
          "name": "stdout"
        },
        {
          "output_type": "display_data",
          "data": {
            "image/jpeg": "[encoded data removed]",
            "text/plain": [
              "<IPython.core.display.Image object>"
            ]
          },
          "metadata": {
            "tags": []
          }
        },
        {
          "output_type": "stream",
          "text": [
            "['Z', 'n', 'K', 'P', 'q', 'N']\n",
            "CAPTCHA text is: ZnKPqN\n"
          ],
          "name": "stdout"
        },
        {
          "output_type": "display_data",
          "data": {
            "image/jpeg": "[encoded data removed]",
            "text/plain": [
              "<IPython.core.display.Image object>"
            ]
          },
          "metadata": {
            "tags": []
          }
        },
        {
          "output_type": "stream",
          "text": [
            "['2', 'R', 'H', 'B', 'V']\n",
            "CAPTCHA text is: 2RHBV\n"
          ],
          "name": "stdout"
        },
        {
          "output_type": "display_data",
          "data": {
            "image/jpeg": "[encoded data removed]",
            "text/plain": [
              "<IPython.core.display.Image object>"
            ]
          },
          "metadata": {
            "tags": []
          }
        },
        {
          "output_type": "error",
          "ename": "error",
          "evalue": "ignored",
          "traceback": [
            "\u001b[0;31m---------------------------------------------------------------------------\u001b[0m",
            "\u001b[0;31merror\u001b[0m                                     Traceback (most recent call last)",
            "\u001b[0;32m<ipython-input-15-2f6a6a38be57>\u001b[0m in \u001b[0;36m<module>\u001b[0;34m()\u001b[0m\n\u001b[1;32m      1\u001b[0m \u001b[0;32mfor\u001b[0m \u001b[0mi\u001b[0m \u001b[0;32min\u001b[0m \u001b[0mimage_paths\u001b[0m\u001b[0;34m:\u001b[0m\u001b[0;34m\u001b[0m\u001b[0;34m\u001b[0m\u001b[0m\n\u001b[1;32m      2\u001b[0m     \u001b[0mimg\u001b[0m \u001b[0;34m=\u001b[0m \u001b[0mcv2\u001b[0m\u001b[0;34m.\u001b[0m\u001b[0mimread\u001b[0m\u001b[0;34m(\u001b[0m\u001b[0mi\u001b[0m\u001b[0;34m)\u001b[0m\u001b[0;34m\u001b[0m\u001b[0;34m\u001b[0m\u001b[0m\n\u001b[0;32m----> 3\u001b[0;31m     \u001b[0mimg\u001b[0m \u001b[0;34m=\u001b[0m \u001b[0mcv2\u001b[0m\u001b[0;34m.\u001b[0m\u001b[0mcvtColor\u001b[0m\u001b[0;34m(\u001b[0m\u001b[0mimg\u001b[0m\u001b[0;34m,\u001b[0m\u001b[0mcv2\u001b[0m\u001b[0;34m.\u001b[0m\u001b[0mCOLOR_BGR2GRAY\u001b[0m\u001b[0;34m)\u001b[0m\u001b[0;34m\u001b[0m\u001b[0;34m\u001b[0m\u001b[0m\n\u001b[0m\u001b[1;32m      4\u001b[0m     \u001b[0;31m# img = cv2.medianBlur(img, 1)\u001b[0m\u001b[0;34m\u001b[0m\u001b[0;34m\u001b[0m\u001b[0;34m\u001b[0m\u001b[0m\n\u001b[1;32m      5\u001b[0m     \u001b[0mimg\u001b[0m \u001b[0;34m=\u001b[0m \u001b[0mcv2\u001b[0m\u001b[0;34m.\u001b[0m\u001b[0mGaussianBlur\u001b[0m\u001b[0;34m(\u001b[0m\u001b[0mimg\u001b[0m \u001b[0;34m,\u001b[0m \u001b[0;34m(\u001b[0m\u001b[0;36m25\u001b[0m\u001b[0;34m,\u001b[0m \u001b[0;36m25\u001b[0m\u001b[0;34m)\u001b[0m\u001b[0;34m,\u001b[0m \u001b[0;36m1\u001b[0m\u001b[0;34m)\u001b[0m\u001b[0;34m\u001b[0m\u001b[0;34m\u001b[0m\u001b[0m\n",
            "\u001b[0;31merror\u001b[0m: OpenCV(4.1.2) /io/opencv/modules/imgproc/src/color.cpp:182: error: (-215:Assertion failed) !_src.empty() in function 'cvtColor'\n"
          ]
        },
        {
          "output_type": "display_data",
          "data": {
            "image/png": "[encoded data removed]",
            "text/plain": [
              "<Figure size 432x288 with 1 Axes>"
            ]
          },
          "metadata": {
            "tags": []
          }
        }
      ]
    },
    {
      "cell_type": "code",
      "metadata": {
        "id": "pIdoiwcRfRdj",
        "colab_type": "code",
        "colab": {}
      },
      "source": [
        ""
      ],
      "execution_count": 0,
      "outputs": []
    }
  ]
}